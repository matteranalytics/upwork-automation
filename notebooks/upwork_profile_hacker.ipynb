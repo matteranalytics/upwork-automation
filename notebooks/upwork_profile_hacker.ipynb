{
 "cells": [
  {
   "cell_type": "markdown",
   "metadata": {},
   "source": [
    "# Find the top earning profiles in any niche on Upwork\n",
    "\n",
    "All Upwork millionairs: https://www.upwork.com/ab/profiles/search/?hourly_rate=50-%2a&pt=independent&revenue=1000000"
   ]
  },
  {
   "cell_type": "code",
   "execution_count": 2,
   "metadata": {},
   "outputs": [],
   "source": [
    "import urllib.parse"
   ]
  },
  {
   "cell_type": "code",
   "execution_count": 3,
   "metadata": {},
   "outputs": [],
   "source": [
    "def generate_upwork_urls(niche_list, revenue, loc=\"all\"):\n",
    "    base_url = \"https://www.upwork.com/ab/profiles/search/?&pt=independent\"\n",
    "    urls = {}\n",
    "    for niche in niche_list:\n",
    "        encoded_keyword = urllib.parse.quote(f'\"{niche}\"')\n",
    "        url = f\"{base_url}&q={encoded_keyword}&revenue={revenue}&loc={loc}\"\n",
    "        urls[niche] = url\n",
    "    return urls"
   ]
  },
  {
   "cell_type": "code",
   "execution_count": 4,
   "metadata": {},
   "outputs": [
    {
     "data": {
      "text/plain": [
       "{'python': 'https://www.upwork.com/ab/profiles/search/?&pt=independent&q=%22python%22&revenue=1000000&loc=all',\n",
       " 'data science': 'https://www.upwork.com/ab/profiles/search/?&pt=independent&q=%22data%20science%22&revenue=1000000&loc=all',\n",
       " 'machine learning': 'https://www.upwork.com/ab/profiles/search/?&pt=independent&q=%22machine%20learning%22&revenue=1000000&loc=all',\n",
       " 'deep learning': 'https://www.upwork.com/ab/profiles/search/?&pt=independent&q=%22deep%20learning%22&revenue=1000000&loc=all',\n",
       " 'forecasting': 'https://www.upwork.com/ab/profiles/search/?&pt=independent&q=%22forecasting%22&revenue=1000000&loc=all',\n",
       " 'openai': 'https://www.upwork.com/ab/profiles/search/?&pt=independent&q=%22openai%22&revenue=1000000&loc=all',\n",
       " 'generative ai': 'https://www.upwork.com/ab/profiles/search/?&pt=independent&q=%22generative%20ai%22&revenue=1000000&loc=all',\n",
       " 'software development': 'https://www.upwork.com/ab/profiles/search/?&pt=independent&q=%22software%20development%22&revenue=1000000&loc=all',\n",
       " 'web development': 'https://www.upwork.com/ab/profiles/search/?&pt=independent&q=%22web%20development%22&revenue=1000000&loc=all',\n",
       " 'project management': 'https://www.upwork.com/ab/profiles/search/?&pt=independent&q=%22project%20management%22&revenue=1000000&loc=all',\n",
       " 'data visualization': 'https://www.upwork.com/ab/profiles/search/?&pt=independent&q=%22data%20visualization%22&revenue=1000000&loc=all',\n",
       " 'dashboards': 'https://www.upwork.com/ab/profiles/search/?&pt=independent&q=%22dashboards%22&revenue=1000000&loc=all'}"
      ]
     },
     "execution_count": 4,
     "metadata": {},
     "output_type": "execute_result"
    }
   ],
   "source": [
    "# Example niches\n",
    "niche_list = [\n",
    "    \"python\",\n",
    "    \"data science\",\n",
    "    \"machine learning\",\n",
    "    \"deep learning\",\n",
    "    \"forecasting\",\n",
    "    \"openai\",\n",
    "    \"generative ai\",\n",
    "    \"software development\",\n",
    "    \"web development\",\n",
    "    \"project management\",\n",
    "    \"data visualization\",\n",
    "    \"dashboards\",\n",
    "]\n",
    "revenue = 1000000\n",
    "loc = \"all\"\n",
    "urls = generate_upwork_urls(niche_list, revenue, loc=loc)\n",
    "urls\n"
   ]
  },
  {
   "cell_type": "code",
   "execution_count": null,
   "metadata": {},
   "outputs": [],
   "source": []
  }
 ],
 "metadata": {
  "kernelspec": {
   "display_name": "base",
   "language": "python",
   "name": "python3"
  },
  "language_info": {
   "codemirror_mode": {
    "name": "ipython",
    "version": 3
   },
   "file_extension": ".py",
   "mimetype": "text/x-python",
   "name": "python",
   "nbconvert_exporter": "python",
   "pygments_lexer": "ipython3",
   "version": "3.11.5"
  },
  "orig_nbformat": 4
 },
 "nbformat": 4,
 "nbformat_minor": 2
}
